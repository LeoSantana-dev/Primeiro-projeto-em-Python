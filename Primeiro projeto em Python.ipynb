{
 "cells": [
  {
   "cell_type": "code",
   "execution_count": null,
   "id": "aa598765",
   "metadata": {},
   "outputs": [],
   "source": [
    "!pip install pyautogui"
   ]
  },
  {
   "cell_type": "code",
   "execution_count": null,
   "id": "6b058a02",
   "metadata": {},
   "outputs": [],
   "source": [
    "import pyautogui\n",
    "import pyperclip\n",
    "import time\n",
    "\n",
    "#passo 1: entrar no sistema da empresa\n",
    "#abrir aba do navegador\n",
    "pyautogui.hotkey('ctrl','t')\n",
    "#link do drive para baixar a base de dados\n",
    "pyperclip.copy('https://drive.google.com/drive/folders/149xknr9JvrlEnhNWO49zPcw0PW5icxga')\n",
    "pyautogui.hotkey('ctrl','v')\n",
    "pyautogui.pause=1\n",
    "pyautogui.press('enter')\n",
    "time.sleep(5)\n",
    "\n",
    "#passo 2: navegar no sistema e encontrar a base de vendas\n",
    "pyautogui.click(x= 429, y= 270, clicks= 2)\n",
    "time.sleep(5)\n",
    "\n",
    "#passo 3: fazer download da base de vendas\n",
    "pyautogui.click(x=392,y=314)\n",
    "pyautogui.click(x=1168,y=157)\n",
    "time.sleep(2)\n",
    "pyautogui.click(x=929,y=558)\n",
    "time.sleep(5)"
   ]
  },
  {
   "cell_type": "code",
   "execution_count": null,
   "id": "6020b6db",
   "metadata": {},
   "outputs": [],
   "source": [
    "#passo 4: Importar base de vendas para o Python\n",
    "import pandas as pd\n",
    "tabela= pd.read_excel(r'')#caminho do arquivo local\n",
    "display(tabela)#r indica que este arquivo será lido de forma literal"
   ]
  },
  {
   "cell_type": "code",
   "execution_count": null,
   "id": "8dee5a35",
   "metadata": {},
   "outputs": [],
   "source": [
    "#passo 5: calcular os indicadores da empresa\n",
    "faturamento= tabela[\"Valor Final\"].sum()\n",
    "print(faturamento)\n",
    "quantidade= tabela[\"Quantidade\"].sum()\n",
    "print(quantidade)"
   ]
  },
  {
   "cell_type": "code",
   "execution_count": null,
   "id": "a87a8d2e",
   "metadata": {},
   "outputs": [],
   "source": [
    "#passo 6: enviar um e-mail para a diretoria com os indicadores de vendas\n",
    "\n",
    "#abrir aba\n",
    "pyautogui.hotkey('ctrl','t')\n",
    "\n",
    "#entrar no link do e-mail\n",
    "pyperclip.copy('https://mail.google.com/mail/u/1/#inbox')#link do e-mail escolhido\n",
    "pyautogui.hotkey('ctrl','v')\n",
    "pyautogui.press('enter')\n",
    "time.sleep(5)\n",
    "\n",
    "#clicar no botão escrever\n",
    "pyautogui.click(x=140,y=166)\n",
    "time.sleep(5)\n",
    "pyautogui.click(x=1255, y=269)#aumentara janela do texto\n",
    "time.sleep(2)\n",
    "#preencher as informações do e-mail\n",
    "pyautogui.write('')#escolha um e-mail para mandar o relatório\n",
    "pyautogui.press('tab')#selecionar o e-mail\n",
    "time.sleep(1)\n",
    "pyautogui.press('tab')#pular para campo do assunto\n",
    "pyperclip.copy('Relatório de Vendas')\n",
    "pyautogui.hotkey('ctrl','v')\n",
    "pyautogui.press('tab')#pular assunto para o corpo do e-mail\n",
    "texto= f'''\n",
    "Prezados,\n",
    "\n",
    "Segue o ralatório de vendas.\n",
    "Faturamento: R${faturamento:,.2f}\n",
    "Quantidade de produtos vendidos: {quantidade}\n",
    "\n",
    "Qualquer estou a disposição.\n",
    "Att...\n",
    "Leonardo Santana\n",
    "'''\n",
    "#f indica que este texto será formatado\n",
    "pyperclip.copy(texto)\n",
    "pyautogui.hotkey('ctrl','v')\n",
    "pyautogui.hotkey('ctrl','enter')\n"
   ]
  },
  {
   "cell_type": "code",
   "execution_count": null,
   "id": "51274024",
   "metadata": {},
   "outputs": [],
   "source": []
  },
  {
   "cell_type": "code",
   "execution_count": null,
   "id": "7cce071d",
   "metadata": {},
   "outputs": [],
   "source": [
    "#localizar o ponteiro do mouse (depende da resolução de monitor para monitor)\n",
    "time.sleep(5)\n",
    "pyautogui.position()"
   ]
  }
 ],
 "metadata": {
  "kernelspec": {
   "display_name": "Python 3 (ipykernel)",
   "language": "python",
   "name": "python3"
  },
  "language_info": {
   "codemirror_mode": {
    "name": "ipython",
    "version": 3
   },
   "file_extension": ".py",
   "mimetype": "text/x-python",
   "name": "python",
   "nbconvert_exporter": "python",
   "pygments_lexer": "ipython3",
   "version": "3.9.12"
  }
 },
 "nbformat": 4,
 "nbformat_minor": 5
}
